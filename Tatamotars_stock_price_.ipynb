{
  "nbformat": 4,
  "nbformat_minor": 0,
  "metadata": {
    "colab": {
      "name": "Tatamotars stock price .ipynb",
      "provenance": [],
      "collapsed_sections": [],
      "authorship_tag": "ABX9TyNCVLuB6ZFAUW1gKxGYoW2g"
    },
    "kernelspec": {
      "name": "python3",
      "display_name": "Python 3"
    },
    "language_info": {
      "name": "python"
    }
  },
  "cells": [
    {
      "cell_type": "code",
      "metadata": {
        "colab": {
          "base_uri": "https://localhost:8080/"
        },
        "id": "S2s7R_28G1KB",
        "outputId": "366ce421-ea2d-4854-a1b1-e1a00f93a577"
      },
      "source": [
        "from google.colab import drive\n",
        "drive.mount('/content/grive')"
      ],
      "execution_count": null,
      "outputs": [
        {
          "output_type": "stream",
          "name": "stdout",
          "text": [
            "Mounted at /content/grive\n"
          ]
        }
      ]
    },
    {
      "cell_type": "code",
      "metadata": {
        "id": "An0xkPKSH5Ow"
      },
      "source": [
        "import pandas as pd\n",
        "import numpy as np \n",
        "data = pd.read_csv('/content/grive/MyDrive/Data/TATAMOTORS.NS (1).csv')"
      ],
      "execution_count": null,
      "outputs": []
    },
    {
      "cell_type": "code",
      "metadata": {
        "colab": {
          "base_uri": "https://localhost:8080/",
          "height": 203
        },
        "id": "2yluJR6dIOqh",
        "outputId": "a45371df-8243-43f6-c1ca-041de412679b"
      },
      "source": [
        "data.head()"
      ],
      "execution_count": null,
      "outputs": [
        {
          "output_type": "execute_result",
          "data": {
            "text/html": [
              "<div>\n",
              "<style scoped>\n",
              "    .dataframe tbody tr th:only-of-type {\n",
              "        vertical-align: middle;\n",
              "    }\n",
              "\n",
              "    .dataframe tbody tr th {\n",
              "        vertical-align: top;\n",
              "    }\n",
              "\n",
              "    .dataframe thead th {\n",
              "        text-align: right;\n",
              "    }\n",
              "</style>\n",
              "<table border=\"1\" class=\"dataframe\">\n",
              "  <thead>\n",
              "    <tr style=\"text-align: right;\">\n",
              "      <th></th>\n",
              "      <th>Date</th>\n",
              "      <th>Open</th>\n",
              "      <th>High</th>\n",
              "      <th>Low</th>\n",
              "      <th>Close</th>\n",
              "      <th>Adj Close</th>\n",
              "      <th>Volume</th>\n",
              "    </tr>\n",
              "  </thead>\n",
              "  <tbody>\n",
              "    <tr>\n",
              "      <th>0</th>\n",
              "      <td>2020-10-29</td>\n",
              "      <td>132.000000</td>\n",
              "      <td>133.000000</td>\n",
              "      <td>130.000000</td>\n",
              "      <td>131.899994</td>\n",
              "      <td>131.899994</td>\n",
              "      <td>66632704.0</td>\n",
              "    </tr>\n",
              "    <tr>\n",
              "      <th>1</th>\n",
              "      <td>2020-10-30</td>\n",
              "      <td>133.199997</td>\n",
              "      <td>134.500000</td>\n",
              "      <td>130.300003</td>\n",
              "      <td>132.649994</td>\n",
              "      <td>132.649994</td>\n",
              "      <td>51128530.0</td>\n",
              "    </tr>\n",
              "    <tr>\n",
              "      <th>2</th>\n",
              "      <td>2020-11-02</td>\n",
              "      <td>133.649994</td>\n",
              "      <td>134.000000</td>\n",
              "      <td>131.100006</td>\n",
              "      <td>132.850006</td>\n",
              "      <td>132.850006</td>\n",
              "      <td>40388690.0</td>\n",
              "    </tr>\n",
              "    <tr>\n",
              "      <th>3</th>\n",
              "      <td>2020-11-03</td>\n",
              "      <td>135.000000</td>\n",
              "      <td>137.399994</td>\n",
              "      <td>133.550003</td>\n",
              "      <td>134.100006</td>\n",
              "      <td>134.100006</td>\n",
              "      <td>52071476.0</td>\n",
              "    </tr>\n",
              "    <tr>\n",
              "      <th>4</th>\n",
              "      <td>2020-11-04</td>\n",
              "      <td>135.600006</td>\n",
              "      <td>137.000000</td>\n",
              "      <td>134.000000</td>\n",
              "      <td>135.899994</td>\n",
              "      <td>135.899994</td>\n",
              "      <td>44675934.0</td>\n",
              "    </tr>\n",
              "  </tbody>\n",
              "</table>\n",
              "</div>"
            ],
            "text/plain": [
              "         Date        Open        High  ...       Close   Adj Close      Volume\n",
              "0  2020-10-29  132.000000  133.000000  ...  131.899994  131.899994  66632704.0\n",
              "1  2020-10-30  133.199997  134.500000  ...  132.649994  132.649994  51128530.0\n",
              "2  2020-11-02  133.649994  134.000000  ...  132.850006  132.850006  40388690.0\n",
              "3  2020-11-03  135.000000  137.399994  ...  134.100006  134.100006  52071476.0\n",
              "4  2020-11-04  135.600006  137.000000  ...  135.899994  135.899994  44675934.0\n",
              "\n",
              "[5 rows x 7 columns]"
            ]
          },
          "metadata": {},
          "execution_count": 5
        }
      ]
    },
    {
      "cell_type": "code",
      "metadata": {
        "colab": {
          "base_uri": "https://localhost:8080/",
          "height": 295
        },
        "id": "_9HE3LTIIOsy",
        "outputId": "57156429-1335-43b2-8409-b8dccebb6507"
      },
      "source": [
        "import matplotlib.pyplot as plt\n",
        "\n",
        "close = data['Close']\n",
        "ax = close.plot(title='Tesla')\n",
        "ax.set_xlabel('Date')\n",
        "ax.set_ylabel('Close')\n",
        "plt.show()"
      ],
      "execution_count": null,
      "outputs": [
        {
          "output_type": "display_data",
          "data": {
            "image/png": "[encoded data removed]",
            "text/plain": [
              "<Figure size 432x288 with 1 Axes>"
            ]
          },
          "metadata": {
            "needs_background": "light"
          }
        }
      ]
    },
    {
      "cell_type": "code",
      "metadata": {
        "id": "rqPCw8EVIOvS"
      },
      "source": [
        "# we choose these features so that we can predict stock prices \n",
        "data[\"Date\"] = pd.to_datetime(data[\"Date\"], infer_datetime_format=True)\n",
        "data = data[[\"Date\", \"Close\"]]"
      ],
      "execution_count": null,
      "outputs": []
    },
    {
      "cell_type": "code",
      "metadata": {
        "id": "A4UrhYRfIOxp"
      },
      "source": [
        "data = data.rename(columns={\"Date\" : \"ds\", \"Close\" : \"y\" })"
      ],
      "execution_count": null,
      "outputs": []
    },
    {
      "cell_type": "code",
      "metadata": {
        "colab": {
          "base_uri": "https://localhost:8080/",
          "height": 417
        },
        "id": "KM3mByLiIO0I",
        "outputId": "30a8e7b1-30b8-4e67-f867-c211cbdea8df"
      },
      "source": [
        "data"
      ],
      "execution_count": null,
      "outputs": [
        {
          "output_type": "execute_result",
          "data": {
            "text/html": [
              "<div>\n",
              "<style scoped>\n",
              "    .dataframe tbody tr th:only-of-type {\n",
              "        vertical-align: middle;\n",
              "    }\n",
              "\n",
              "    .dataframe tbody tr th {\n",
              "        vertical-align: top;\n",
              "    }\n",
              "\n",
              "    .dataframe thead th {\n",
              "        text-align: right;\n",
              "    }\n",
              "</style>\n",
              "<table border=\"1\" class=\"dataframe\">\n",
              "  <thead>\n",
              "    <tr style=\"text-align: right;\">\n",
              "      <th></th>\n",
              "      <th>ds</th>\n",
              "      <th>y</th>\n",
              "    </tr>\n",
              "  </thead>\n",
              "  <tbody>\n",
              "    <tr>\n",
              "      <th>0</th>\n",
              "      <td>2020-10-29</td>\n",
              "      <td>131.899994</td>\n",
              "    </tr>\n",
              "    <tr>\n",
              "      <th>1</th>\n",
              "      <td>2020-10-30</td>\n",
              "      <td>132.649994</td>\n",
              "    </tr>\n",
              "    <tr>\n",
              "      <th>2</th>\n",
              "      <td>2020-11-02</td>\n",
              "      <td>132.850006</td>\n",
              "    </tr>\n",
              "    <tr>\n",
              "      <th>3</th>\n",
              "      <td>2020-11-03</td>\n",
              "      <td>134.100006</td>\n",
              "    </tr>\n",
              "    <tr>\n",
              "      <th>4</th>\n",
              "      <td>2020-11-04</td>\n",
              "      <td>135.899994</td>\n",
              "    </tr>\n",
              "    <tr>\n",
              "      <th>...</th>\n",
              "      <td>...</td>\n",
              "      <td>...</td>\n",
              "    </tr>\n",
              "    <tr>\n",
              "      <th>243</th>\n",
              "      <td>2021-10-22</td>\n",
              "      <td>490.899994</td>\n",
              "    </tr>\n",
              "    <tr>\n",
              "      <th>244</th>\n",
              "      <td>2021-10-25</td>\n",
              "      <td>479.899994</td>\n",
              "    </tr>\n",
              "    <tr>\n",
              "      <th>245</th>\n",
              "      <td>2021-10-26</td>\n",
              "      <td>508.649994</td>\n",
              "    </tr>\n",
              "    <tr>\n",
              "      <th>246</th>\n",
              "      <td>2021-10-27</td>\n",
              "      <td>497.899994</td>\n",
              "    </tr>\n",
              "    <tr>\n",
              "      <th>247</th>\n",
              "      <td>2021-10-28</td>\n",
              "      <td>481.049988</td>\n",
              "    </tr>\n",
              "  </tbody>\n",
              "</table>\n",
              "<p>248 rows × 2 columns</p>\n",
              "</div>"
            ],
            "text/plain": [
              "            ds           y\n",
              "0   2020-10-29  131.899994\n",
              "1   2020-10-30  132.649994\n",
              "2   2020-11-02  132.850006\n",
              "3   2020-11-03  134.100006\n",
              "4   2020-11-04  135.899994\n",
              "..         ...         ...\n",
              "243 2021-10-22  490.899994\n",
              "244 2021-10-25  479.899994\n",
              "245 2021-10-26  508.649994\n",
              "246 2021-10-27  497.899994\n",
              "247 2021-10-28  481.049988\n",
              "\n",
              "[248 rows x 2 columns]"
            ]
          },
          "metadata": {},
          "execution_count": 9
        }
      ]
    },
    {
      "cell_type": "code",
      "metadata": {
        "colab": {
          "base_uri": "https://localhost:8080/",
          "height": 237
        },
        "id": "HN4siTwsIO2a",
        "outputId": "096ce1a7-62d0-4264-afa1-a6caf56a1925"
      },
      "source": [
        "from fbprophet import Prophet\n",
        "model = Prophet()\n",
        "model.fit(data)\n",
        "predict = model.make_future_dataframe(periods=365)\n",
        "forcast = model.predict(predict)\n",
        "forcast[[\"ds\", \"yhat\", \"yhat_lower\", \"yhat_upper\"]].tail()"
      ],
      "execution_count": null,
      "outputs": [
        {
          "output_type": "stream",
          "name": "stderr",
          "text": [
            "INFO:fbprophet:Disabling yearly seasonality. Run prophet with yearly_seasonality=True to override this.\n",
            "INFO:fbprophet:Disabling daily seasonality. Run prophet with daily_seasonality=True to override this.\n"
          ]
        },
        {
          "output_type": "execute_result",
          "data": {
            "text/html": [
              "<div>\n",
              "<style scoped>\n",
              "    .dataframe tbody tr th:only-of-type {\n",
              "        vertical-align: middle;\n",
              "    }\n",
              "\n",
              "    .dataframe tbody tr th {\n",
              "        vertical-align: top;\n",
              "    }\n",
              "\n",
              "    .dataframe thead th {\n",
              "        text-align: right;\n",
              "    }\n",
              "</style>\n",
              "<table border=\"1\" class=\"dataframe\">\n",
              "  <thead>\n",
              "    <tr style=\"text-align: right;\">\n",
              "      <th></th>\n",
              "      <th>ds</th>\n",
              "      <th>yhat</th>\n",
              "      <th>yhat_lower</th>\n",
              "      <th>yhat_upper</th>\n",
              "    </tr>\n",
              "  </thead>\n",
              "  <tbody>\n",
              "    <tr>\n",
              "      <th>608</th>\n",
              "      <td>2022-10-24</td>\n",
              "      <td>1033.969410</td>\n",
              "      <td>738.252825</td>\n",
              "      <td>1315.568553</td>\n",
              "    </tr>\n",
              "    <tr>\n",
              "      <th>609</th>\n",
              "      <td>2022-10-25</td>\n",
              "      <td>1036.807424</td>\n",
              "      <td>738.969222</td>\n",
              "      <td>1325.725769</td>\n",
              "    </tr>\n",
              "    <tr>\n",
              "      <th>610</th>\n",
              "      <td>2022-10-26</td>\n",
              "      <td>1040.712222</td>\n",
              "      <td>755.502697</td>\n",
              "      <td>1329.791615</td>\n",
              "    </tr>\n",
              "    <tr>\n",
              "      <th>611</th>\n",
              "      <td>2022-10-27</td>\n",
              "      <td>1042.559735</td>\n",
              "      <td>756.970663</td>\n",
              "      <td>1336.250373</td>\n",
              "    </tr>\n",
              "    <tr>\n",
              "      <th>612</th>\n",
              "      <td>2022-10-28</td>\n",
              "      <td>1041.527719</td>\n",
              "      <td>745.266834</td>\n",
              "      <td>1333.313939</td>\n",
              "    </tr>\n",
              "  </tbody>\n",
              "</table>\n",
              "</div>"
            ],
            "text/plain": [
              "            ds         yhat  yhat_lower   yhat_upper\n",
              "608 2022-10-24  1033.969410  738.252825  1315.568553\n",
              "609 2022-10-25  1036.807424  738.969222  1325.725769\n",
              "610 2022-10-26  1040.712222  755.502697  1329.791615\n",
              "611 2022-10-27  1042.559735  756.970663  1336.250373\n",
              "612 2022-10-28  1041.527719  745.266834  1333.313939"
            ]
          },
          "metadata": {},
          "execution_count": 16
        }
      ]
    },
    {
      "cell_type": "code",
      "metadata": {
        "colab": {
          "base_uri": "https://localhost:8080/",
          "height": 441
        },
        "id": "6Z18X_HYIO4u",
        "outputId": "52fe220a-4a56-4dab-a8e5-207a48f12abc"
      },
      "source": [
        "graph = model.plot(forcast, xlabel=\"ds\", ylabel=\"Price\")"
      ],
      "execution_count": null,
      "outputs": [
        {
          "output_type": "display_data",
          "data": {
            "image/png": "[encoded data removed]",
            "text/plain": [
              "<Figure size 720x432 with 1 Axes>"
            ]
          },
          "metadata": {}
        }
      ]
    },
    {
      "cell_type": "code",
      "metadata": {
        "id": "KctdXgOsIO7R"
      },
      "source": [
        "# conclusion \n",
        "#tatamotars stock prices will increase  in the coming future"
      ],
      "execution_count": null,
      "outputs": []
    }
  ]
}